{
 "cells": [
  {
   "cell_type": "markdown",
   "metadata": {
    "deletable": false
   },
   "source": [
    "# UFCFVQ-15-M Programming for Data Science (Spring 2024 Resit)\n"
   ]
  },
  {
   "cell_type": "markdown",
   "metadata": {},
   "source": [
    "## Student Id:24003549"
   ]
  },
  {
   "cell_type": "markdown",
   "metadata": {
    "deletable": false
   },
   "source": [
    "<p style=\"color:red; font-weight:bold; font-size:xx-small\">OVERALL COURSEWORK MARK: ___%</p>"
   ]
  },
  {
   "cell_type": "markdown",
   "metadata": {},
   "source": [
    "### Process Development Report and Git commit message\n",
    "<p style=\"color:red; font-weight:bold; font-size:xx-small\">MARK: __%</p>\n",
    "<p style=\"color:red; font-weight:bold; font-size:xx-small\">FEEDBACK: </p>"
   ]
  },
  {
   "cell_type": "markdown",
   "metadata": {
    "deletable": false
   },
   "source": [
    "# Resit Programming Task 1"
   ]
  },
  {
   "cell_type": "markdown",
   "metadata": {
    "deletable": false
   },
   "source": [
    "### Requirement FR1 - Develop a function to read a single column from a CSV file"
   ]
  },
  {
   "cell_type": "code",
   "execution_count": null,
   "metadata": {
    "deletable": false,
    "tags": []
   },
   "outputs": [],
   "source": []
  },
  {
   "cell_type": "code",
   "execution_count": 10,
   "metadata": {
    "collapsed": true,
    "jupyter": {
     "outputs_hidden": true
    },
    "tags": []
   },
   "outputs": [
    {
     "name": "stdout",
     "output_type": "stream",
     "text": [
      "['37', '34', '24', '38', '35', '38', '37', '32', '35', '36', '35', '31', '42', '47', '32', '30', '34', '30', '39', '35', '50', '40', '50', '30', '37', '50', '33', '39', '40', '39', '43', '39', '24', '36', '43', '34', '23', '33', '29', '40', '30', '29', '32', '42', '44', '41', '41', '35', '33', '29', '34', '56', '22', '34', '24', '37', '52', '24', '29', '34', '40', '52', '35', '41', '13', '38', '31', '30', '30', '35', '45', '44', '27', '43', '28', '35', '36', '0', '55', '41', '73', '16', '38', '28', '30', '32', '25', '41', '35', '24', '33', '28', '70', '48', '37', '44', '38', '35', '29', '46', '35', '39', '41', '31', '23', '44', '64', '33', '50', '25', '34', '30', '37', '42', '49', '82', '77', '36', '78', '47', '42', '45', '56', '36', '32', '36', '27', '39', '31', '29', '36', '32', '32', '28', '25', '29', '47', '34', '29', '38', '33', '44', '39', '22', '40', '45', '33', '78', '31', '46', '46', '30', '100', '51', '44', '43', '31', '37', '47', '36', '32', '34', '31', '19', '28', '14', '31', '0', '44', '28', '28', '46', '25', '31', '31', '28', '31', '26', '33', '28', '27', '52', '10', '27', '31', '57', '19', '27', '29', '0', '44', '31', '35', '33', '27', '29', '25', '30', '23', '22', '31', '26', '37', '27', '31', '24', '29', '42', '38', '33']\n"
     ]
    }
   ],
   "source": [
    "import csv\n",
    "\n",
    "def read_column_from_csv(fn, column_header):\n",
    "    column_data = [] #built an empty list to store column data\n",
    "    with open(fn, newline='', encoding='utf-8') as csvfile: #open csv file\n",
    "        csvreader = csv.DictReader(csvfile)# build a object named csvreader and reads each line as a dictionary\n",
    "        for row in csvreader:\n",
    "            column_data.append(row[column_header])\n",
    "    return column_data\n",
    "\n",
    "fn = 'resit_task1.csv'\n",
    "column_header = 'cardiovascular'  \n",
    "column_data = read_column_from_csv(fn, column_header)\n",
    "print(column_data)"
   ]
  },
  {
   "cell_type": "markdown",
   "metadata": {
    "deletable": false,
    "tags": []
   },
   "source": [
    "<p style=\"color:red; font-weight:bold; font-size:xx-small\">MARK: __%</p>\n",
    "<p style=\"color:red; font-weight:bold; font-size:xx-small\">FEEDBACK: </p>"
   ]
  },
  {
   "cell_type": "markdown",
   "metadata": {
    "deletable": false
   },
   "source": [
    "### Requirement FR2 - Develop a function to read CSV data from a file into memory"
   ]
  },
  {
   "cell_type": "code",
   "execution_count": 14,
   "metadata": {
    "deletable": false
   },
   "outputs": [],
   "source": [
    "import csv\n",
    "\n",
    "def read_csv_data_to_memory(fn): #define fn as 'resit_task1.csv'\n",
    "    data_in_memory = []\n",
    "    with open(csv_file_path, mode='r', newline='', encoding='utf-5') as file:\n",
    "        reader = csv.DictReader(file)\n",
    "        for row in reader:\n",
    "            data_in_memory.append(dict(row))\n",
    "    return data_in_memory\n",
    "\n"
   ]
  },
  {
   "cell_type": "markdown",
   "metadata": {
    "deletable": false
   },
   "source": [
    "<p style=\"color:red; font-weight:bold; font-size:xx-small\">MARK: __%</p>\n",
    "<p style=\"color:red; font-weight:bold; font-size:xx-small\">FEEDBACK: </p>"
   ]
  },
  {
   "cell_type": "markdown",
   "metadata": {
    "deletable": false
   },
   "source": [
    "### Requirement FR3 - Develop a function to calculate the Kendall Tau Correlation Coefficient for two lists of data"
   ]
  },
  {
   "cell_type": "code",
   "execution_count": 22,
   "metadata": {
    "deletable": false
   },
   "outputs": [
    {
     "name": "stdout",
     "output_type": "stream",
     "text": [
      "Kendall Tau Correlation Coefficient is: 0\n"
     ]
    }
   ],
   "source": [
    "def parse_data(fn):\n",
    "    \"\"\"\n",
    "    Parse the CSV data and extract 'obesity' and 'diabetes' columns.\n",
    "    \"\"\"\n",
    "    lines = data.strip().split('\\n') #Split each row of data into separate items\n",
    "    data_dict = {}\n",
    "    for line in lines:\n",
    "        items = line.split()\n",
    "        for item in items:\n",
    "            if ':' in item:\n",
    "                key, value = item.split(':') # Split each item into keys and values\n",
    "                key = key.strip() #Remove the white space before and after the key\n",
    "                value = value.strip()\n",
    "# Check if the key is 'obesity' or 'diabetes' and if the value is a number           \n",
    "                if key in ['obesity', 'diabetes'] and value.isdigit():\n",
    "                    if key not in data_dict:\n",
    "                        data_dict[key] = []\n",
    "                    data_dict[key].append(int(value))\n",
    "    return data_dict\n",
    "\n",
    "# Parse the data\n",
    "obesity_diabetes_data = parse_data(fn)\n",
    "obesity = obesity_diabetes_data.get('obesity', [])\n",
    "diabetes = obesity_diabetes_data.get('diabetes', [])\n",
    "\n",
    "# Calculate Kendall Tau Correlation Coefficient\n",
    "tau = kendall_tau(obesity, diabetes)\n",
    "print(\"Kendall Tau Correlation Coefficient is:\", tau)"
   ]
  },
  {
   "cell_type": "markdown",
   "metadata": {
    "deletable": false
   },
   "source": [
    "<p style=\"color:red; font-weight:bold; font-size:xx-small\">MARK: __%</p>\n",
    "<p style=\"color:red; font-weight:bold; font-size:xx-small\">FEEDBACK: </p>"
   ]
  },
  {
   "cell_type": "markdown",
   "metadata": {
    "deletable": false
   },
   "source": [
    "### Requirement FR4 - Develop a function to generate a set of Kendall Tau Correlation Coefficients for a data structure like the one generated in FR2"
   ]
  },
  {
   "cell_type": "code",
   "execution_count": 24,
   "metadata": {
    "deletable": false
   },
   "outputs": [
    {
     "name": "stdout",
     "output_type": "stream",
     "text": [
      "Kendall Tau between obesity and diabetes: 0.0\n",
      "Kendall Tau between obesity and cancer: 0.2\n",
      "Kendall Tau between obesity and stroke: 0.0\n",
      "Kendall Tau between diabetes and cancer: 1.0\n",
      "Kendall Tau between diabetes and stroke: 0.3333333333333333\n",
      "Kendall Tau between cancer and stroke: 0.2\n"
     ]
    }
   ],
   "source": [
    "def calculate_kendall_taus(fn):\n",
    "   \n",
    "    from itertools import combinations\n",
    "\n",
    "    # Check that all value lists in the data dictionary are the same length\n",
    "    lengths = [len(lst) for lst in fn.values()]\n",
    "    if len(set(lengths)) > 1:\n",
    "        raise ValueError(\"All lists in the data dictionary must have the same length.\")\n",
    "\n",
    "    # build a dictionary to store the correlation coefficients\n",
    "    taus = {}\n",
    "\n",
    "    # Gets a combination of all variable names\n",
    "    variable_names = list(fn.keys())\n",
    "    all_pairs = combinations(variable_names, 2)\n",
    "\n",
    "    # Calculate the Kendall Tau correlation coefficient between each 2 variables\n",
    "    for var1, var2 in all_pairs:\n",
    "        x = fn[var1]\n",
    "        y = fn[var2]\n",
    "        taus[(var1, var2)] = kendall_tau(x, y)\n",
    "\n",
    "    return taus\n",
    "\n",
    "def kendall_tau(x, y):\n",
    "    num_Concordant = 0 #The number of consistent pairs\n",
    "    num_Discordant = 0 #The number of inconsistent pairs\n",
    "    num_Tied_X = 0 #The logarithm of an equal number in the list x\n",
    "    num_Tied_Y = 0 #The logarithm of an equal number in the list y\n",
    "    length = len(x) \n",
    "\n",
    "    for i in range(length):\n",
    "        for j in range(i + 1, length):\n",
    "            if x[i] < x[j]:\n",
    "                if y[i] < y[j]:\n",
    "                    num_Concordant += 1\n",
    "                elif y[i] > y[j]:\n",
    "                    num_Discordant += 1\n",
    "            elif x[i] > x[j]:\n",
    "                if y[i] > y[j]:\n",
    "                    num_Concordant += 1\n",
    "                elif y[i] < y[j]:\n",
    "                    num_Discordant += 1\n",
    "\n",
    "            if x[i] == x[j]:\n",
    "                num_Tied_X += 1\n",
    "            if y[i] == y[j]:\n",
    "                num_Tied_Y += 1\n",
    "    \n",
    "    # Calculate the numerator and denominator\n",
    "    numerator = num_Concordant - num_Discordant\n",
    "    denominator = (length * (length - 1) // 2) - (num_Tied_X + num_Tied_Y)\n",
    "    # Return 0 if the denominator is 0, otherwise return the Kendall Tau correlation coefficient\n",
    "    if denominator == 0:\n",
    "        return 0\n",
    "    return numerator / denominator\n",
    "\n",
    "# show the data structure\n",
    "data_structure = {\n",
    "    'obesity': [47, 52, 61, 41],\n",
    "    'diabetes': [80, 78, 72, 66],\n",
    "    'cancer': [70, 70, 68, 53],\n",
    "    'stroke': [83, 53, 71, 62]\n",
    "}\n",
    "\n",
    "# Calculate and print the correlation coefficients\n",
    "taus = calculate_kendall_taus(data_structure)\n",
    "for pair, tau in taus.items():\n",
    "    print(f\"Kendall Tau between {pair[0]} and {pair[1]}: {tau}\")"
   ]
  },
  {
   "cell_type": "markdown",
   "metadata": {
    "deletable": false
   },
   "source": [
    "<p style=\"color:red; font-weight:bold; font-size:xx-small\">MARK: __%</p>\n",
    "<p style=\"color:red; font-weight:bold; font-size:xx-small\">FEEDBACK: </p>"
   ]
  },
  {
   "cell_type": "markdown",
   "metadata": {
    "deletable": false
   },
   "source": [
    "### Requirement FR5 - Develop a function to print a custom table for selected data from a data structure like the one generated in FR4"
   ]
  },
  {
   "cell_type": "code",
   "execution_count": 25,
   "metadata": {
    "deletable": false
   },
   "outputs": [
    {
     "name": "stdout",
     "output_type": "stream",
     "text": [
      "    Variable    |    Mean    |   Median   |    Max     |    Min    \n",
      "---------------------------------------------------\n",
      "    obesity     | 50.25      | 49.50      | 61         | 41        \n",
      "    diabetes    | 74.00      | 75.00      | 80         | 66        \n"
     ]
    }
   ],
   "source": [
    "def print_custom_table(fn, selected_variables):\n",
    "   \n",
    "    # Check that the selected variables are in the data dictionary\n",
    "    for var in selected_variables:\n",
    "        if var not in fn:\n",
    "            print(f\"Warning: '{var}' is not in the data dictionary.\")\n",
    "            return\n",
    "\n",
    "    # print head \n",
    "    print(f\"{'Variable'.center(15)} | {'Mean'.center(10)} | {'Median'.center(10)} | {'Max'.center(10)} | {'Min'.center(10)}\")\n",
    "    print('-' * 51)\n",
    "\n",
    "    # Traversal all the variables in the dictionary\n",
    "    for var in selected_variables:\n",
    "        # Gets a data list of variables\n",
    "        data = fn[var]\n",
    "        \n",
    "        # Calculated mean\n",
    "        mean = sum(data) / len(data)\n",
    "        \n",
    "        # Calculated median\n",
    "        sorted_data = sorted(data)\n",
    "        n = len(sorted_data)\n",
    "        median = (sorted_data[n // 2] + sorted_data[(n - 1) // 2]) / 2 if n % 2 == 0 else sorted_data[n // 2]\n",
    "        \n",
    "        # Calculate the maximum and minimum values\n",
    "        max_value = max(data)\n",
    "        min_value = min(data)\n",
    "        \n",
    "        # Print statistics for variables\n",
    "        print(f\"{var.center(15)} | {mean:<10.2f} | {median:<10.2f} | {max_value:<10} | {min_value:<10}\")\n",
    "\n",
    "# Show the data structure\n",
    "data_structure = {\n",
    "    'obesity': [47, 52, 61, 41],\n",
    "    'diabetes': [80, 78, 72, 66],\n",
    "    'cancer': [70, 70, 68, 53],\n",
    "    'stroke': [83, 53, 71, 62]\n",
    "}\n",
    "\n",
    "# Select the list of variables to print\n",
    "selected_variables = ['obesity', 'diabetes']\n",
    "\n",
    "# print table\n",
    "print_custom_table(data_structure, selected_variables)"
   ]
  },
  {
   "cell_type": "markdown",
   "metadata": {
    "deletable": false
   },
   "source": [
    "<p style=\"color:red; font-weight:bold; font-size:xx-small\">MARK: __%</p>\n",
    "<p style=\"color:red; font-weight:bold; font-size:xx-small\">FEEDBACK: </p>"
   ]
  },
  {
   "cell_type": "markdown",
   "metadata": {
    "deletable": false
   },
   "source": [
    "# Coding Standards\n",
    "<p style=\"color:red; font-weight:bold; font-size:xx-small\">MARK: __%</p>\n",
    "<p style=\"color:red; font-weight:bold; font-size:xx-small\">FEEDBACK: </p>"
   ]
  }
 ],
 "metadata": {
  "kernelspec": {
   "display_name": "Python 3 (ipykernel)",
   "language": "python",
   "name": "python3"
  },
  "language_info": {
   "codemirror_mode": {
    "name": "ipython",
    "version": 3
   },
   "file_extension": ".py",
   "mimetype": "text/x-python",
   "name": "python",
   "nbconvert_exporter": "python",
   "pygments_lexer": "ipython3",
   "version": "3.11.5"
  }
 },
 "nbformat": 4,
 "nbformat_minor": 4
}
